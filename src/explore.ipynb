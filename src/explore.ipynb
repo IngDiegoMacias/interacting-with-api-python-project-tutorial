{
    "cells": [
        {
            "cell_type": "markdown",
            "metadata": {},
            "source": [
                "# Explore here"
            ]
        },
        {
            "cell_type": "code",
            "execution_count": 2,
            "metadata": {},
            "outputs": [],
            "source": [
                "import os\n",
                "import pandas as pd\n",
                "import seaborn as sns\n",
                "from dotenv import load_dotenv\n",
                "\n",
                "# load the .env file variables\n",
                "load_dotenv()\n",
                "client_id = os.environ.get(\"CLIENT_ID\")\n",
                "client_secret = os.environ.get(\"CLIENT_SECRET\")\n"
            ]
        },
        {
            "cell_type": "code",
            "execution_count": 4,
            "metadata": {},
            "outputs": [],
            "source": [
                "import spotipy\n",
                "from spotipy.oauth2 import SpotifyClientCredentials\n",
                "\n",
                "artist_id = '49Z1AvGeUaBSanPaOmplK6'\n",
                "\n",
                "spotify = spotipy.Spotify(client_credentials_manager=SpotifyClientCredentials(client_id=client_id,client_secret=client_secret))\n",
                "results = spotify.artist_top_tracks(artist_id)"
            ]
        },
        {
            "cell_type": "code",
            "execution_count": null,
            "metadata": {},
            "outputs": [
                {
                    "name": "stdout",
                    "output_type": "stream",
                    "text": [
                        "track     :  Déjame Ir\n",
                        "track     :  Besos Usados\n",
                        "track     :  Magia (feat. Sebastián Yatra)\n",
                        "track     :  Tengo Ganas\n",
                        "track     :  Día Tras Día\n",
                        "track     :  Lo Mejor Que Hay en Mi Vida\n",
                        "track     :  Mejor Que A Ti Me Va - Versión Reggae\n",
                        "track     :  Por el Resto de Mi Vida\n",
                        "track     :  Conquistar El Planeta\n",
                        "track     :  Te Voy a Amar\n"
                    ]
                }
            ],
            "source": [
                "canciones=[]\n",
                "popularidad=[]\n",
                "duracion=[]\n",
                "\n",
                "for track in results['tracks'][:10]:\n",
                "    print('track     :  ' + track['name'])\n",
                "    canciones.append(track['name'])\n",
                "    popularidad.append(track['popularity'])\n",
                "    duracion.append(track['duration_ms']/(1000*60)%60)\n"
            ]
        },
        {
            "cell_type": "code",
            "execution_count": 9,
            "metadata": {},
            "outputs": [
                {
                    "data": {
                        "text/html": [
                            "<div>\n",
                            "<style scoped>\n",
                            "    .dataframe tbody tr th:only-of-type {\n",
                            "        vertical-align: middle;\n",
                            "    }\n",
                            "\n",
                            "    .dataframe tbody tr th {\n",
                            "        vertical-align: top;\n",
                            "    }\n",
                            "\n",
                            "    .dataframe thead th {\n",
                            "        text-align: right;\n",
                            "    }\n",
                            "</style>\n",
                            "<table border=\"1\" class=\"dataframe\">\n",
                            "  <thead>\n",
                            "    <tr style=\"text-align: right;\">\n",
                            "      <th></th>\n",
                            "      <th>Canciones</th>\n",
                            "      <th>Popularidad</th>\n",
                            "      <th>Duracion</th>\n",
                            "    </tr>\n",
                            "  </thead>\n",
                            "  <tbody>\n",
                            "    <tr>\n",
                            "      <th>0</th>\n",
                            "      <td>Déjame Ir</td>\n",
                            "      <td>61</td>\n",
                            "      <td>3.896433</td>\n",
                            "    </tr>\n",
                            "    <tr>\n",
                            "      <th>1</th>\n",
                            "      <td>Besos Usados</td>\n",
                            "      <td>62</td>\n",
                            "      <td>3.908433</td>\n",
                            "    </tr>\n",
                            "    <tr>\n",
                            "      <th>2</th>\n",
                            "      <td>Magia (feat. Sebastián Yatra)</td>\n",
                            "      <td>59</td>\n",
                            "      <td>3.230883</td>\n",
                            "    </tr>\n",
                            "    <tr>\n",
                            "      <th>3</th>\n",
                            "      <td>Tengo Ganas</td>\n",
                            "      <td>61</td>\n",
                            "      <td>2.580500</td>\n",
                            "    </tr>\n",
                            "    <tr>\n",
                            "      <th>4</th>\n",
                            "      <td>Día Tras Día</td>\n",
                            "      <td>60</td>\n",
                            "      <td>4.095333</td>\n",
                            "    </tr>\n",
                            "    <tr>\n",
                            "      <th>5</th>\n",
                            "      <td>Lo Mejor Que Hay en Mi Vida</td>\n",
                            "      <td>59</td>\n",
                            "      <td>3.582000</td>\n",
                            "    </tr>\n",
                            "    <tr>\n",
                            "      <th>6</th>\n",
                            "      <td>Mejor Que A Ti Me Va - Versión Reggae</td>\n",
                            "      <td>59</td>\n",
                            "      <td>3.745100</td>\n",
                            "    </tr>\n",
                            "    <tr>\n",
                            "      <th>7</th>\n",
                            "      <td>Por el Resto de Mi Vida</td>\n",
                            "      <td>59</td>\n",
                            "      <td>3.754433</td>\n",
                            "    </tr>\n",
                            "    <tr>\n",
                            "      <th>8</th>\n",
                            "      <td>Conquistar El Planeta</td>\n",
                            "      <td>57</td>\n",
                            "      <td>2.713333</td>\n",
                            "    </tr>\n",
                            "    <tr>\n",
                            "      <th>9</th>\n",
                            "      <td>Te Voy a Amar</td>\n",
                            "      <td>54</td>\n",
                            "      <td>3.654000</td>\n",
                            "    </tr>\n",
                            "  </tbody>\n",
                            "</table>\n",
                            "</div>"
                        ],
                        "text/plain": [
                            "                               Canciones  Popularidad  Duracion\n",
                            "0                              Déjame Ir           61  3.896433\n",
                            "1                           Besos Usados           62  3.908433\n",
                            "2          Magia (feat. Sebastián Yatra)           59  3.230883\n",
                            "3                            Tengo Ganas           61  2.580500\n",
                            "4                           Día Tras Día           60  4.095333\n",
                            "5            Lo Mejor Que Hay en Mi Vida           59  3.582000\n",
                            "6  Mejor Que A Ti Me Va - Versión Reggae           59  3.745100\n",
                            "7                Por el Resto de Mi Vida           59  3.754433\n",
                            "8                  Conquistar El Planeta           57  2.713333\n",
                            "9                          Te Voy a Amar           54  3.654000"
                        ]
                    },
                    "execution_count": 9,
                    "metadata": {},
                    "output_type": "execute_result"
                }
            ],
            "source": [
                "df = pd.DataFrame()\n",
                "\n",
                "df['Canciones']=canciones\n",
                "df['Popularidad']=popularidad\n",
                "df['Duracion']=duracion\n",
                "\n",
                "df"
            ]
        },
        {
            "cell_type": "code",
            "execution_count": 12,
            "metadata": {},
            "outputs": [
                {
                    "name": "stdout",
                    "output_type": "stream",
                    "text": [
                        "      Canciones  Popularidad  Duracion\n",
                        "1  Besos Usados           62  3.908433\n",
                        "0     Déjame Ir           61  3.896433\n",
                        "3   Tengo Ganas           61  2.580500\n"
                    ]
                }
            ],
            "source": [
                "df.sort_values([\"Popularidad\"], ascending=False, inplace = True)\n",
                "\n",
                "print(df.head(3))"
            ]
        },
        {
            "cell_type": "code",
            "execution_count": 14,
            "metadata": {},
            "outputs": [
                {
                    "data": {
                        "image/png": "[encoded data removed]",
                        "text/plain": [
                            "<Figure size 640x480 with 1 Axes>"
                        ]
                    },
                    "metadata": {},
                    "output_type": "display_data"
                }
            ],
            "source": [
                "scatter_plot = sns.scatterplot(data = df, x = \"Popularidad\", y = \"Duracion\")\n",
                "fig = scatter_plot.get_figure()\n",
                "fig.savefig(\"scatter_plot.png\")"
            ]
        },
        {
            "cell_type": "markdown",
            "metadata": {},
            "source": [
                "Según la gráfica, no hay una relación entre popularidad y duración, es decir, la duración de la canción no incide en la popularidad."
            ]
        }
    ],
    "metadata": {
        "kernelspec": {
            "display_name": "Python 3",
            "language": "python",
            "name": "python3"
        },
        "language_info": {
            "codemirror_mode": {
                "name": "ipython",
                "version": 3
            },
            "file_extension": ".py",
            "mimetype": "text/x-python",
            "name": "python",
            "nbconvert_exporter": "python",
            "pygments_lexer": "ipython3",
            "version": "3.11.4"
        },
        "orig_nbformat": 4
    },
    "nbformat": 4,
    "nbformat_minor": 2
}
